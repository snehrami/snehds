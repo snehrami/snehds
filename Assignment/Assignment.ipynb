{
 "cells": [
  {
   "cell_type": "code",
   "execution_count": 1,
   "id": "02f9f623",
   "metadata": {},
   "outputs": [
    {
     "name": "stdout",
     "output_type": "stream",
     "text": [
      "Sum of first 12 positive integers is: 78\n"
     ]
    }
   ],
   "source": [
    "#1. Write a python program to sum of the first n positive integers\n",
    "\n",
    "n = int(input(\"Enter a positive integer: \"))\n",
    "sum_of_n = n * (n + 1) // 2\n",
    "print(\"Sum of first\", n, \"positive integers is:\", sum_of_n)\n"
   ]
  },
  {
   "cell_type": "code",
   "execution_count": null,
   "id": "86adcc63",
   "metadata": {},
   "outputs": [
    {
     "name": "stdout",
     "output_type": "stream",
     "text": [
      "The substring 'sneh' occurs 1 times in the string.\n"
     ]
    }
   ],
   "source": [
    " #2. Write a Python program to count occurrences of a \n",
    " # substring in a string.\n",
    "\n",
    "string = input(\"Enter a string: \")\n",
    "substring = input(\"Enter a substring: \")\n",
    "count = string.count(substring)\n",
    "print(f\"The substring '{substring}' occurs {count} times in the string.\")\n"
   ]
  },
  {
   "cell_type": "code",
   "execution_count": null,
   "id": "455d4734",
   "metadata": {},
   "outputs": [
    {
     "name": "stdout",
     "output_type": "stream",
     "text": [
      "S\n",
      "4\n"
     ]
    }
   ],
   "source": [
    "#3. Write a Python program to count the occurrences of each word in a given sentence not use function.\n",
    "\n",
    "text=(\"Python is easy. Python is powerful. I love programming in python. Python is fun \")\n",
    "word=(input(\"Enter string:\"))\n",
    "\n",
    "count=text.lower().count(word.lower())\n",
    "print(word)\n",
    "print(count)\n"
   ]
  },
  {
   "cell_type": "code",
   "execution_count": 5,
   "id": "9714b6b7",
   "metadata": {},
   "outputs": [
    {
     "name": "stdout",
     "output_type": "stream",
     "text": [
      "raeh snmi\n"
     ]
    }
   ],
   "source": [
    " #4. Write a Python program to get a single string from two given strings, separated by \n",
    " #a space and swap the first two characters of each string.\n",
    "\n",
    "def swap_strings(s1, s2):\n",
    "    # Swap the first two characters of each string\n",
    "    new_s1 = s2[:2] + s1[2:]\n",
    "    new_s2 = s1[:2] + s2[2:]\n",
    "\n",
    "    # Combine the strings into a single string separated by a space\n",
    "    result = new_s1 + \" \" + new_s2\n",
    "    return result\n",
    "\n",
    "s1 = input(\"Enter the first string: \")\n",
    "s2 = input(\"Enter the second string: \")\n",
    "\n",
    "# Ensure both strings have at least 2 characters\n",
    "if len(s1) >= 2 and len(s2) >= 2:\n",
    "    result = swap_strings(s1, s2)\n",
    "    print(result)\n",
    "else:\n",
    "    print(\"Both strings must have at least 2 characters.\")\n"
   ]
  },
  {
   "cell_type": "code",
   "execution_count": null,
   "id": "1ce3e9e8",
   "metadata": {},
   "outputs": [
    {
     "name": "stdout",
     "output_type": "stream",
     "text": [
      "ingly\n"
     ]
    }
   ],
   "source": [
    "#5. Write a Python program to add 'ing' at the end of a given string (length should be\n",
    " #at least 3). If the given string already ends with 'ing' then add 'ly' instead If the\n",
    " #string length of the given string is less than 3, leave it unchanged.\n",
    "\n",
    "\n",
    "def modify_string(s):\n",
    "    if len(s) < 3:\n",
    "        return s\n",
    "    elif s.endswith('ing'):\n",
    "        return s + 'ly'\n",
    "    else:\n",
    "        return s + 'ing'\n",
    "\n",
    "s = input(\"Enter a string: \")\n",
    "result = modify_string(s)\n",
    "print(result)\n"
   ]
  },
  {
   "cell_type": "code",
   "execution_count": null,
   "id": "9f404edb",
   "metadata": {},
   "outputs": [],
   "source": [
    "#6\n"
   ]
  },
  {
   "cell_type": "code",
   "execution_count": 1,
   "id": "3eaad2b9",
   "metadata": {},
   "outputs": [
    {
     "name": "stdout",
     "output_type": "stream",
     "text": [
      "The GCD of 12 and 12 is 12\n"
     ]
    }
   ],
   "source": [
    "# 7.Write a Program to find Greatest Common Divisor of two numbers. For example, theGCDof20 and 28 is 4 and the GCD of 98 and 56 is 14.\n",
    "def gcd(a, b):\n",
    "    while b != 0:\n",
    "        a, b = b, a % b\n",
    "    return abs(a)\n",
    " \n",
    "num1 = int(input(\"Enter the first number: \"))\n",
    "num2 = int(input(\"Enter the second number: \"))\n",
    "\n",
    "result = gcd(num1, num2)\n",
    "print(f\"The GCD of {num1} and {num2} is {result}\")\n"
   ]
  },
  {
   "cell_type": "code",
   "execution_count": null,
   "id": "691a7319",
   "metadata": {},
   "outputs": [
    {
     "name": "stdout",
     "output_type": "stream",
     "text": [
      "The list contains the sublist.\n"
     ]
    }
   ],
   "source": [
    " #8. Write a Python program to check whether a list contains a sublist.\n",
    "def contains_sublist(main_list, sublist):\n",
    "    # Check if the sublist exists in the main list\n",
    "    for i in range(len(main_list) - len(sublist) + 1):\n",
    "        if main_list[i:i + len(sublist)] == sublist:\n",
    "            return True\n",
    "    return False\n",
    "\n",
    "# Example usage\n",
    "main_list = [1, 2, 3, 4, 5]\n",
    "sublist = [3, 4]\n",
    "\n",
    "if contains_sublist(main_list, sublist):\n",
    "    print(\"The list contains the sublist.\")\n",
    "else:\n",
    "    print(\"The list does not contain the sublist.\")"
   ]
  },
  {
   "cell_type": "code",
   "execution_count": null,
   "id": "0e977485",
   "metadata": {},
   "outputs": [
    {
     "name": "stdout",
     "output_type": "stream",
     "text": [
      "The second smallest number is: 1\n"
     ]
    }
   ],
   "source": [
    "# 9. Write a Python program to find the second smallest number in a list.\n",
    "def find_second_smallest(numbers):\n",
    "    if len(numbers) < 2:\n",
    "        return \"List must contain at least two distinct numbers.\"\n",
    "    \n",
    "    # Remove duplicates and sort the list\n",
    "    unique_numbers = sorted(set(numbers))\n",
    "    \n",
    "    if len(unique_numbers) < 2:\n",
    "        return \"List must contain at least two distinct numbers.\"\n",
    "    \n",
    "    return unique_numbers[1]\n",
    "\n",
    "# Example usage\n",
    "numbers = [4, 7, 2, 5, 1, 9, 0]\n",
    "second_smallest = find_second_smallest(numbers)\n",
    "print(\"The second smallest number is:\", second_smallest)"
   ]
  },
  {
   "cell_type": "code",
   "execution_count": 27,
   "id": "1fdb391f",
   "metadata": {},
   "outputs": [
    {
     "name": "stdout",
     "output_type": "stream",
     "text": [
      "Unique values: [1, 2, 3, 4, 5]\n"
     ]
    }
   ],
   "source": [
    "#10.Write a Python program to get unique values from a list.\n",
    "\n",
    "# Method 1: Using a set\n",
    "def get_unique_values(input_list):\n",
    "    return list(set(input_list))\n",
    "\n",
    "# Example usage\n",
    "my_list = [1, 2, 2, 3, 4, 4, 5]\n",
    "unique_values = get_unique_values(my_list)\n",
    "print(\"Unique values:\", unique_values)\n"
   ]
  },
  {
   "cell_type": "code",
   "execution_count": 28,
   "id": "341ae21d",
   "metadata": {},
   "outputs": [
    {
     "name": "stdout",
     "output_type": "stream",
     "text": [
      "List 1: [1, 2, 3, 4]\n",
      "List 2: ['a', 'b', 'c', 'd']\n"
     ]
    }
   ],
   "source": [
    "# 11.Write a Python program to unzip a list of tuples into individual lists.\n",
    "# List of tuples\n",
    "tuples_list = [(1, 'a'), (2, 'b'), (3, 'c'), (4, 'd')]\n",
    "\n",
    "# Unzipping the list of tuples into individual lists\n",
    "list1, list2 = zip(*tuples_list)\n",
    "\n",
    "# Converting the results to lists\n",
    "list1 = list(list1)\n",
    "list2 = list(list2)\n",
    "\n",
    "# Displaying the results\n",
    "print(\"List 1:\", list1)\n",
    "print(\"List 2:\", list2)\n"
   ]
  },
  {
   "cell_type": "code",
   "execution_count": 30,
   "id": "6a67479c",
   "metadata": {},
   "outputs": [
    {
     "name": "stdout",
     "output_type": "stream",
     "text": [
      "Converted Dictionary: {'a': 1, 'b': 2, 'c': 3, 'd': 4}\n"
     ]
    }
   ],
   "source": [
    " #12.Write a Python program to convert a list of tuples into a dictionary\n",
    "\n",
    " # Program to convert a list of tuples into a dictionary\n",
    "\n",
    "# Sample list of tuples\n",
    "listoftuples = [(\"a\", 1), (\"b\", 2), (\"c\", 3), (\"d\", 4)]\n",
    "\n",
    "# Converting list of tuples to dictionary\n",
    "dictionary = dict(listoftuples)\n",
    "\n",
    "# Output the result\n",
    "print(\"Converted Dictionary:\", dictionary)\n"
   ]
  },
  {
   "cell_type": "code",
   "execution_count": 31,
   "id": "15c295f7",
   "metadata": {},
   "outputs": [
    {
     "name": "stdout",
     "output_type": "stream",
     "text": [
      "Ascending order: {'b': 1, 'c': 2, 'a': 3, 'd': 4}\n",
      "Descending order: {'d': 4, 'a': 3, 'c': 2, 'b': 1}\n"
     ]
    }
   ],
   "source": [
    "# 13.Write a Python program to sort a dictionary (ascending /descending) by value.\n",
    "\n",
    "# Sample dictionary\n",
    "sample_dict = {'a': 3, 'b': 1, 'c': 2, 'd': 4}\n",
    "\n",
    "# Sorting in ascending order by value\n",
    "ascending_sorted = dict(sorted(sample_dict.items(), key=lambda item: item[1]))\n",
    "print(\"Ascending order:\", ascending_sorted)\n",
    "\n",
    "# Sorting in descending order by value\n",
    "descending_sorted = dict(sorted(sample_dict.items(), key=lambda item: item[1], reverse=True))\n",
    "print(\"Descending order:\", descending_sorted)\n"
   ]
  },
  {
   "cell_type": "code",
   "execution_count": null,
   "id": "80b5d96f",
   "metadata": {},
   "outputs": [
    {
     "name": "stdout",
     "output_type": "stream",
     "text": [
      "The highest 3 values are: [90, 70, 50]\n"
     ]
    }
   ],
   "source": [
    "# 14.Write a Python program to find the highest 3 values in a dictionary.\n",
    "# Sample dictionary\n",
    "data = {'a': 50, 'b': 20, 'c': 90, 'd': 40, 'e': 70}\n",
    "\n",
    "# Find the high 3 values\n",
    "highest_values = sorted(data.values(), reverse=True)[:3]\n",
    "\n",
    "print(\"The highest 3 values are:\", highest_values)\n"
   ]
  },
  {
   "cell_type": "code",
   "execution_count": 12,
   "id": "0247c642",
   "metadata": {},
   "outputs": [
    {
     "name": "stdout",
     "output_type": "stream",
     "text": [
      "Fibonacci Series:\n",
      "0 1 1 2 3 5 8 13 "
     ]
    }
   ],
   "source": [
    "#15.Given a number n, write a python program to make and print the list of Fibonacci\n",
    "#series up to n. Input : n=7 Hint : first 7 numbers in the series Expected output :\n",
    "#First few Fibonacci numbers are 0, 1, 1, 2, 3, 5, 8, 13\n",
    "n=7\n",
    "a=0\n",
    "b=1\n",
    "\n",
    "print(\"Fibonacci Series:\")\n",
    "for i in range(n+1):\n",
    "    print(a,end=\" \")\n",
    "    a,b=b,a+b"
   ]
  },
  {
   "cell_type": "code",
   "execution_count": 1,
   "id": "dde8e103",
   "metadata": {},
   "outputs": [
    {
     "name": "stdout",
     "output_type": "stream",
     "text": [
      "1:4\n",
      "5:2\n",
      "3:3\n",
      "2:4\n",
      "4:5\n"
     ]
    }
   ],
   "source": [
    " #16.Counting the frequencies in a list using a dictionary in Python.\n",
    " #  Input : [1, 1, 1, 5, 5, 3, 1, 3, 3, 1,4, 4, 4, 2, 2, 2, 2]\n",
    " #Expected output : 1 : 5 , 2 : 4 , 3 : 3 , 4 : 3 , 5 : 2\n",
    " \n",
    "l=[1,1,1,5,5,3,1,2,2,2,4,3,4,4,2,3,4,4]\n",
    "frequency={}\n",
    "\n",
    "for item in l:\n",
    "    if item in frequency:\n",
    "        frequency[item]+=1\n",
    "    else:\n",
    "        frequency[item]=1\n",
    "\n",
    "for key in frequency:\n",
    "    print(f\"{key}:{frequency[key]}\")"
   ]
  },
  {
   "cell_type": "code",
   "execution_count": 3,
   "id": "0e1e888e",
   "metadata": {},
   "outputs": [
    {
     "name": "stdout",
     "output_type": "stream",
     "text": [
      "1.0\n",
      "2.0\n"
     ]
    }
   ],
   "source": [
    "#17.Write a python program using function to find the sum of odd series and even series\n",
    "#Odd series: 12/ 1! +32/ 3! + 52/ 5!+……n\n",
    "#Even series: 22/ 2! + 42/ 4! + 62/\n",
    "\n",
    "def fact(n):\n",
    "    a=1\n",
    "    for i in range(1,n+1):\n",
    "        a*=i\n",
    "    return a\n",
    "\n",
    "def odd_series(n):\n",
    "    total=0\n",
    "    for i in range(1,n+1,2):\n",
    "        total+=(i**2)/fact(i)\n",
    "    return total\n",
    "\n",
    "def even_series(n):\n",
    "    total=0\n",
    "    for i in range(2,n+1,2):\n",
    "        total+=(i**2)/fact(i)\n",
    "    return total\n",
    "\n",
    "n=int(input(\"Enter the number :\"))\n",
    "print(odd_series(n))\n",
    "print(even_series(n))\n"
   ]
  },
  {
   "cell_type": "code",
   "execution_count": 7,
   "id": "57fb11e6",
   "metadata": {},
   "outputs": [
    {
     "data": {
      "text/plain": [
       "720"
      ]
     },
     "execution_count": 7,
     "metadata": {},
     "output_type": "execute_result"
    }
   ],
   "source": [
    "#18. Python Program to Find Factorial of Number Using Recursion\n",
    "\n",
    "def fact(num):\n",
    "    if num==0 or num==1:\n",
    "        return 1\n",
    "    return num*fact(num-1)\n",
    "\n",
    "fact(6)"
   ]
  },
  {
   "cell_type": "code",
   "execution_count": 8,
   "id": "2bd9105f",
   "metadata": {},
   "outputs": [
    {
     "name": "stdout",
     "output_type": "stream",
     "text": [
      "[1, 2, 3, 4, 5, 6, 7, 8, 9]\n"
     ]
    }
   ],
   "source": [
    "#19.Write a Python function that takes a list and returns a new list with unique elements of the first list.\n",
    "\n",
    "def unique(lst):\n",
    "    new_list=[]\n",
    "    for item in lst:\n",
    "        if item not in new_list:\n",
    "            new_list.append(item)\n",
    "    return new_list\n",
    "\n",
    "l1=[1,2,3,4,5,1,3,6,7,2,8,4,9]\n",
    "print(unique(l1))"
   ]
  },
  {
   "cell_type": "code",
   "execution_count": 9,
   "id": "f8ecf62f",
   "metadata": {},
   "outputs": [
    {
     "name": "stdout",
     "output_type": "stream",
     "text": [
      "Generated Password: >NY+ssa]\n"
     ]
    }
   ],
   "source": [
    "# 20.Mini project :\n",
    "# Problem Statement : Password Generator\n",
    "# Make a program to generate a strong password using the input given by the user.\n",
    "# To generate a password, randomly take some words from the user input and then include numbers, special characters and capital letters to generate the password.\n",
    "# Also, keep a check that password length is more than 8 characters.\n",
    "# Note: Include Exception handling wherever required.\n",
    "# Also, make a ‘User’ class and store the details like user id, name and password of each user as a tuple.\n",
    "\n",
    "\n",
    "import random\n",
    "import string\n",
    "\n",
    "def generate_password(user_input):\n",
    "    try:\n",
    "        if not user_input.strip():\n",
    "            raise ValueError(\"Input cannot be empty.\")\n",
    "        \n",
    "        random_chars=''.join(random.choices(string.ascii_letters+string.ascii_lowercase+string.ascii_uppercase+string.digits+string.punctuation,k=4))\n",
    "        password=user_input+random_chars\n",
    "        while len(password)<8:\n",
    "            password+=random.choice(string.ascii_letters+string.ascii_lowercase+string.ascii_uppercase+string.digits+string.punctuation)\n",
    "\n",
    "        password_list=list(password)\n",
    "        random.shuffle(password_list)\n",
    "        return ''.join(password_list)\n",
    "    except ValueError as ve:\n",
    "        return ve\n",
    "    except Exception as e:\n",
    "        return e\n",
    "    \n",
    "user_input=(input(\"Enter a word or letter for password:\"))\n",
    "password=generate_password(user_input)\n",
    "print(\"Generated Password:\",password)"
   ]
  }
 ],
 "metadata": {
  "kernelspec": {
   "display_name": "Python 3",
   "language": "python",
   "name": "python3"
  },
  "language_info": {
   "codemirror_mode": {
    "name": "ipython",
    "version": 3
   },
   "file_extension": ".py",
   "mimetype": "text/x-python",
   "name": "python",
   "nbconvert_exporter": "python",
   "pygments_lexer": "ipython3",
   "version": "3.13.3"
  }
 },
 "nbformat": 4,
 "nbformat_minor": 5
}
